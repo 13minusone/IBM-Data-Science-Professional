{
 "cells": [
  {
   "cell_type": "markdown",
   "id": "56e8d3e7-09c4-430a-8524-ab1694718f97",
   "metadata": {},
   "source": [
    "Data Science Tools and Ecosystem"
   ]
  },
  {
   "cell_type": "markdown",
   "id": "ae60b1a4-8164-4d77-89b1-8d81f38bcd13",
   "metadata": {},
   "source": [
    "In this notebook, Data Science Tools and Ecosystem are summarized."
   ]
  },
  {
   "cell_type": "markdown",
   "id": "aa2085b5-53b1-41e2-8386-86522d3f92fa",
   "metadata": {},
   "source": [
    "<strong> Objectives:</strong>\n",
    "    <ul>\n",
    "    <li>List popular languages that Data Scientists use.\n",
    "    <li>List commonly used libraries used by Data Scientists.\n",
    "    <li>Comment on Data Science tools.\n",
    "    </ul>"
   ]
  },
  {
   "cell_type": "markdown",
   "id": "e5737eb4-5af4-4fab-ba59-d83d277adddf",
   "metadata": {
    "tags": []
   },
   "source": [
    "Some of the popular languages that Data Scientists use are:\n",
    "    1.Python.\n",
    "    2.R.\n",
    "    3.SQL.\n",
    "    4.Java.\n",
    "    5.Julia.\n",
    "    6.Scala.\n",
    "    7.C/C++.\n",
    "    8.JavaScript."
   ]
  },
  {
   "cell_type": "markdown",
   "id": "cd7682e7-0ef8-4cb9-90b8-54aa3bf73afa",
   "metadata": {},
   "source": [
    "Some of the commonly used libraries used by Data Scientists include:\n",
    "    1. TensorFlow.\n",
    "    2. NumPy.\n",
    "    3. SciPy.\n",
    "    4. Pandas."
   ]
  },
  {
   "cell_type": "markdown",
   "id": "15d7fad4-b990-4ba2-a757-870f7bb34557",
   "metadata": {},
   "source": [
    "|Data Science Tools|\n",
    "|----------|\n",
    "|SAS. |\n",
    "|It is one of those data science tools which are specifically designed for statistical operation|\n",
    "|Apache Spark|\n",
    "|BigML|"
   ]
  },
  {
   "cell_type": "markdown",
   "id": "7bcbd84b-6471-4354-b6d4-f93530c6558d",
   "metadata": {},
   "source": [
    "<h3>Below are a few examples of evaluating arithmetic expressions in Python.\n"
   ]
  },
  {
   "cell_type": "markdown",
   "id": "412c6ed5-3d46-4891-8742-5cd667330696",
   "metadata": {
    "tags": []
   },
   "source": [
    "  This a simple arithmetic expression to mutiply then add integers."
   ]
  },
  {
   "cell_type": "code",
   "execution_count": 5,
   "id": "3da5e542-2131-4f6b-9eb5-e49b8711c9a2",
   "metadata": {
    "tags": []
   },
   "outputs": [
    {
     "data": {
      "text/plain": [
       "17"
      ]
     },
     "execution_count": 5,
     "metadata": {},
     "output_type": "execute_result"
    }
   ],
   "source": [
    "code = compile(\"(3 * 4) + 5\", \"<string>\", \"eval\")\n",
    "eval(code)"
   ]
  },
  {
   "cell_type": "markdown",
   "id": "fe6bb938-3502-44a8-b542-93a0c98637da",
   "metadata": {},
   "source": [
    "This will convert 200 minutes to hours by diving by 60.\n"
   ]
  },
  {
   "cell_type": "code",
   "execution_count": 7,
   "id": "66c101ea-ace2-4d1b-883f-44eaa2b34de5",
   "metadata": {
    "tags": []
   },
   "outputs": [
    {
     "name": "stdout",
     "output_type": "stream",
     "text": [
      "Hours:  3.3333333333333335\n"
     ]
    }
   ],
   "source": [
    "time = 200\n",
    "print(\"Hours: \",time / 60)"
   ]
  },
  {
   "cell_type": "markdown",
   "id": "84c29e6b-0ff1-4cce-9284-3095bd87b5bd",
   "metadata": {
    "tags": []
   },
   "source": [
    "<h2> Author: </h2>\n",
    "    Minh Pham Van"
   ]
  }
 ],
 "metadata": {
  "kernelspec": {
   "display_name": "Python",
   "language": "python",
   "name": "conda-env-python-py"
  },
  "language_info": {
   "codemirror_mode": {
    "name": "ipython",
    "version": 3
   },
   "file_extension": ".py",
   "mimetype": "text/x-python",
   "name": "python",
   "nbconvert_exporter": "python",
   "pygments_lexer": "ipython3",
   "version": "3.7.12"
  }
 },
 "nbformat": 4,
 "nbformat_minor": 5
}
